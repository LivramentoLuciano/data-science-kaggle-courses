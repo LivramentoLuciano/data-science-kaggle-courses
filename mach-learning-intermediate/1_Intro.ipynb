{
 "cells": [
  {
   "cell_type": "markdown",
   "id": "67742756",
   "metadata": {},
   "source": [
    "# Introducción\n",
    "En este curso profundizaremos lo visto en el anterior, aprendiendo herramientas para mejorar nuestros modelos de Machine Learning:\n",
    "- Resolver *missing values* y *categorical variables*\n",
    "- *Pipelines*, mejoran la calidad del código\n",
    "- *Cross-validation*\n",
    "- Uso de los últimos Modelos disponibles, *XGBoost*\n",
    "- Evitar errores comunes como *leakage*\n",
    "\n",
    "En esta primera sección, no hay mucho para decir, pero sí dejo planteado un ejercicio que había, más que nada porque presenta mejoras al RandomForest, que anteriormente nunca se habían mostrado (*n_estimators*, *depth*)"
   ]
  },
  {
   "cell_type": "code",
   "execution_count": 36,
   "id": "d802b352",
   "metadata": {},
   "outputs": [
    {
     "name": "stdout",
     "output_type": "stream",
     "text": [
      "Iniciando...\n",
      "Listo.\n"
     ]
    }
   ],
   "source": [
    "print('Iniciando...')\n",
    "import pandas as pd\n",
    "from sklearn.ensemble import RandomForestRegressor\n",
    "from sklearn.model_selection import train_test_split\n",
    "from sklearn.metrics import mean_absolute_error\n",
    "\n",
    "train_data_filepath = 'assets/input/train.csv'\n",
    "test_data_filepath = 'assets/input/test.csv'\n",
    "train_data = pd.read_csv(train_data_filepath)\n",
    "test_data = pd.read_csv(test_data_filepath)\n",
    "\n",
    "# target y features de la data de entrenamiento\n",
    "y = train_data.SalePrice\n",
    "features = ['LotArea', 'YearBuilt', '1stFlrSF', '2ndFlrSF', 'FullBath', 'BedroomAbvGr', 'TotRmsAbvGrd']\n",
    "X = train_data[features].copy()\n",
    "\n",
    "train_X, val_X, train_y, val_y = train_test_split(X, y, random_state=0, train_size=0.8, test_size=0.2)\n",
    "\n",
    "# X de la data de test (para submission final)\n",
    "test_X = test_data[features].copy()\n",
    "\n",
    "print('Listo.')"
   ]
  },
  {
   "cell_type": "code",
   "execution_count": 37,
   "id": "ff37c8a1",
   "metadata": {},
   "outputs": [],
   "source": [
    "# Diferentes variantes de RandomForest (evaluar cual es mejor)\n",
    "model_1 = RandomForestRegressor(n_estimators=50, random_state=0)\n",
    "model_2 = RandomForestRegressor(n_estimators=100, random_state=0)\n",
    "model_3 = RandomForestRegressor(n_estimators=100, criterion='absolute_error', random_state=0)\n",
    "model_4 = RandomForestRegressor(n_estimators=200, min_samples_split=20, random_state=0)\n",
    "model_5 = RandomForestRegressor(n_estimators=100, max_depth=7, random_state=0)\n",
    "\n",
    "models = [model_1, model_2, model_3, model_4, model_5]"
   ]
  },
  {
   "cell_type": "code",
   "execution_count": 11,
   "id": "f96105b6",
   "metadata": {},
   "outputs": [
    {
     "name": "stdout",
     "output_type": "stream",
     "text": [
      "Model_0 - MAE: 24015\n",
      "Model_1 - MAE: 23741\n",
      "Model_2 - MAE: 23529\n",
      "Model_3 - MAE: 23997\n",
      "Model_4 - MAE: 23707\n"
     ]
    }
   ],
   "source": [
    "# devuelve MAE del modelo indicado\n",
    "def score_model(model):\n",
    "    model.fit(train_X, train_y)\n",
    "    preds = model.predict(val_X)\n",
    "    mae = mean_absolute_error(val_y, preds)\n",
    "    return mae\n",
    "\n",
    "for i in range(len(models)):\n",
    "    imae = score_model(models[i])\n",
    "    print('Model_{} - MAE: {:.0f}'.format(i, imae))"
   ]
  },
  {
   "cell_type": "markdown",
   "id": "162d80fc",
   "metadata": {},
   "source": [
    "En este caso, el modelo de menor MAE fue el *model_3*, finalmente, entreno dicho modelo con la data completa (train + validation) y genero las predicciones de la *test_data*, para subirlas a la competencia."
   ]
  },
  {
   "cell_type": "code",
   "execution_count": 38,
   "id": "a34b8b9d",
   "metadata": {},
   "outputs": [],
   "source": [
    "# Mejor modelo entre las opciones\n",
    "model = model_3\n",
    "\n",
    "model.fit(X, y)\n",
    "test_preds = model.predict(test_X)\n",
    "\n",
    "output = pd.DataFrame({'Id': test_X.index, 'SalePrice': test_preds})\n",
    "output.to_csv('assets/output/home_submission_rforest.csv', index=False)\n"
   ]
  },
  {
   "cell_type": "code",
   "execution_count": 40,
   "id": "55b8ad05",
   "metadata": {},
   "outputs": [],
   "source": [
    "# no se por que, pero no puedo subir esta submission\n",
    "# me tira que faltan los elementos (del 1459 a 1469)\n",
    "# chequeo aca y es verdad, pero la test_data ya me vino sin esos valores (?)\n",
    "# test_X"
   ]
  },
  {
   "cell_type": "code",
   "execution_count": null,
   "id": "e5a2814f",
   "metadata": {},
   "outputs": [],
   "source": []
  }
 ],
 "metadata": {
  "kernelspec": {
   "display_name": "Python 3 (ipykernel)",
   "language": "python",
   "name": "python3"
  },
  "language_info": {
   "codemirror_mode": {
    "name": "ipython",
    "version": 3
   },
   "file_extension": ".py",
   "mimetype": "text/x-python",
   "name": "python",
   "nbconvert_exporter": "python",
   "pygments_lexer": "ipython3",
   "version": "3.10.2"
  }
 },
 "nbformat": 4,
 "nbformat_minor": 5
}
