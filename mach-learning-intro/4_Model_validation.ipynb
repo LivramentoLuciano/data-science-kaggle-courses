{
 "cells": [
  {
   "cell_type": "code",
   "execution_count": 6,
   "id": "562770a5",
   "metadata": {},
   "outputs": [
    {
     "data": {
      "text/plain": [
       "DecisionTreeRegressor(random_state=1)"
      ]
     },
     "execution_count": 6,
     "metadata": {},
     "output_type": "execute_result"
    }
   ],
   "source": [
    "# Carga de elementos a utilizar globalmente\n",
    "import pandas as pd\n",
    "from sklearn.tree import DecisionTreeRegressor\n",
    "\n",
    "melbourne_file_path = 'assets/input/melb_data.csv'\n",
    "melb_home_data = pd.read_csv(melbourne_file_path)\n",
    "filtered_melb_data = melb_home_data.dropna(axis=0)\n",
    "\n",
    "y = filtered_melb_data.Price\n",
    "features = ['Rooms', 'Bathroom', 'Landsize', 'Lattitude', 'Longtitude']\n",
    "X = filtered_melb_data[features]\n",
    "\n",
    "melb_model = DecisionTreeRegressor(random_state=1)\n",
    "melb_model.fit(X,y)"
   ]
  },
  {
   "cell_type": "markdown",
   "id": "47c81ce6",
   "metadata": {},
   "source": [
    "# Validación del modelo\n",
    "Es la medida de **calidad de nuestro modelo** y conocer este valor nos permitirá mejorarlo iterativamente.\n",
    "El valor más importante es, en general, la **precisión de la predicción**.\n",
    "\n",
    "Un error muy común es calcular esta precisión basándose en predicciones y valor real del mismo set de entreamiento.\n",
    "La métrica a utilizar es el **mean absolute error (MAE)**.\n",
    "\n",
    "*NOTA:* una primera inquietud que puede surgir aquí es cómo puede calcular el error si para ello necesitaría saber el valor real del *target*, que es justamente el que estoy queriendo predecir. La respuesta a ello es que se utilizará un **set de datos específico para validación**, el cual incluirá el valor conocido del *target* que nos permitirá saber la dispersión que tenga nuestra predicción."
   ]
  },
  {
   "cell_type": "code",
   "execution_count": 9,
   "id": "d4e7c5d0",
   "metadata": {},
   "outputs": [
    {
     "name": "stdout",
     "output_type": "stream",
     "text": [
      "Error medio: 1115.7467183128902\n"
     ]
    }
   ],
   "source": [
    "from sklearn.metrics import mean_absolute_error\n",
    "\n",
    "# Obtengo Predicciones y calculo su mean_error\n",
    "# OJO: esto es ilustrativo, se realizaron las predicciones \n",
    "# sobre el mismo set de entrenamiento, lo cual esta mal\n",
    "predictions = melb_model.predict(X)\n",
    "mae = mean_absolute_error(y, predictions)\n",
    "\n",
    "print('Error medio: {}'.format(mae))"
   ]
  },
  {
   "cell_type": "markdown",
   "id": "66a3232d",
   "metadata": {},
   "source": [
    "*DUDA:* se dijo que está mal calcular el error sobre el mismo set de entreamiento, y eso lo entiendo, pero no debería dar 0 el error? o es que el proceso de fit igualmente tiene cierto error (mínimo en este caso, ya que el valor del target predicho será practicamente igual)"
   ]
  },
  {
   "cell_type": "markdown",
   "id": "bf98a4ca",
   "metadata": {},
   "source": [
    "## In-sample error\n",
    "El error a la hora de calcular la precisión de la manera en que se demostró antes es lo que se conoce como **in-sample error**, donde se utiliza el mismo set de datos tanto para la construcción del modelo como para su validación.\n",
    "\n",
    "Una forma de entender conceptualmente este error: supongamos que se tiene un set de datos de determinadas casas, en las cuales una característica como ser \"color de la puerta: verde\" hace que la casa tenga un precio alto. Nuestro modelo, al buscar patrones, detectará dicho comportamiento y lo replicará en las predicciones, es decir, al ver una casa con puerta verde, predecirá un precio alto. Si esto lo validamos dentro del mismo set de datos, arrojará una gran exactitud, pero ahora, supongamos que esa correlación no se da en otra ciudad, de esta manera, al aplicar nuestro modelo en este otro set de datos, tendremos un gran error.\n",
    "\n",
    "**Para evitar esto, la medición de la precisión de nuestro modelo se realizá sobre un nuevo set de datos**, distinto al que se utilizó para el entrenamiento, denominado **validation data**.\n",
    "La manera más sencilla de hacerlo es excluir cierta cantidad de datos (de nuestro set de entreamiento) del proceso de creación del modelo y luego utilizarlo para medir la precisión con datos que nunca haya visto."
   ]
  },
  {
   "cell_type": "code",
   "execution_count": 10,
   "id": "fd0fc956",
   "metadata": {},
   "outputs": [
    {
     "name": "stdout",
     "output_type": "stream",
     "text": [
      "Error medio: 273518.01872175594\n"
     ]
    }
   ],
   "source": [
    "from sklearn.model_selection import train_test_split\n",
    "\n",
    "# Separo set de datos original\n",
    "# Uno para fit y otro para validar\n",
    "train_X, val_X, train_y, val_y = train_test_split(X, y, random_state=0)\n",
    "\n",
    "melb_model.fit(train_X, train_y)\n",
    "predictions = melb_model.predict(val_X)\n",
    "\n",
    "mae = mean_absolute_error(val_y, predictions)\n",
    "print('Error medio: {}'.format(mae))"
   ]
  },
  {
   "cell_type": "markdown",
   "id": "3b4d0d0c",
   "metadata": {},
   "source": [
    "Como se puede observar, el error con este modelo es de aproximadamente 275000 (siendo el valor promedio de una casa 1M, es decir, un 25% de error, muy alto) mientras que como lo habíamos calculado anteriormente 'in-sample' nos daba aproximadamente 1000, la cual era obviamente una medida equivocada. Esta es la importancia de realizar correctamente la validación de nuestro modelo ya que podemos pasar de un modelo que *equivocadamente* nos parece excelente prediciendo, a uno que es prácticamente inútil."
   ]
  },
  {
   "cell_type": "code",
   "execution_count": null,
   "id": "6c004723",
   "metadata": {},
   "outputs": [],
   "source": []
  }
 ],
 "metadata": {
  "kernelspec": {
   "display_name": "Python 3 (ipykernel)",
   "language": "python",
   "name": "python3"
  },
  "language_info": {
   "codemirror_mode": {
    "name": "ipython",
    "version": 3
   },
   "file_extension": ".py",
   "mimetype": "text/x-python",
   "name": "python",
   "nbconvert_exporter": "python",
   "pygments_lexer": "ipython3",
   "version": "3.10.2"
  }
 },
 "nbformat": 4,
 "nbformat_minor": 5
}
