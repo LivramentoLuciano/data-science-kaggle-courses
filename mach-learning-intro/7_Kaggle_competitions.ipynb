{
 "cells": [
  {
   "cell_type": "markdown",
   "id": "ef34d1f6",
   "metadata": {},
   "source": [
    "# Competiciones de Kaggle\n",
    "En el sitio web de Kaggle, podremos encontrar [competiciones](https://www.kaggle.com/competitions), mediante las cuales se fomenta la práctica de las distintas habilidades de Data Science, suministrando grandes dataset de manera pública y alentando a los usuarios a realizar sus propias mediciones/predicciones y compartirlas, obteniendo calificación por sus resultados y compitiendo así con el resto de los participantes.\n",
    "\n",
    "NOTA: yo ya hice las *submission* correspondientes a las prácticas durante el curso, pero ahora las haré de nuevo, de manera de poder acostumbrarme a cuál sería la dinámica de hacerlo por mi cuenta."
   ]
  },
  {
   "cell_type": "code",
   "execution_count": 50,
   "id": "50b22edd",
   "metadata": {},
   "outputs": [
    {
     "name": "stdout",
     "output_type": "stream",
     "text": [
      "Iniciando...\n",
      "Datos cargados\n"
     ]
    }
   ],
   "source": [
    "print('Iniciando...')\n",
    "import pandas as pd\n",
    "from sklearn.ensemble import RandomForestRegressor\n",
    "from sklearn.model_selection import train_test_split\n",
    "from sklearn.metrics import mean_absolute_error\n",
    "\n",
    "iowa_houses_filepath = 'assets/input/house_competition/train.csv'\n",
    "iowa_data = pd.read_csv(iowa_houses_filepath)\n",
    "\n",
    "print('Datos cargados')"
   ]
  },
  {
   "cell_type": "code",
   "execution_count": 58,
   "id": "7cd444f9",
   "metadata": {
    "scrolled": true
   },
   "outputs": [],
   "source": [
    "# primero inspecciono los datos por arriba\n",
    "# iowa_data.head()"
   ]
  },
  {
   "cell_type": "code",
   "execution_count": 59,
   "id": "302fbea2",
   "metadata": {},
   "outputs": [],
   "source": [
    "# iowa_data.describe()"
   ]
  },
  {
   "cell_type": "markdown",
   "id": "df07f952",
   "metadata": {},
   "source": [
    "**OJO:** En primera instancia había decidido hacer un *dropna()* para eliminar filas que tuvieran valores nulos, pero resultaba en que me quedaba un dataset vacío. Esto creo que se debe a que el dataset contiene columnas que están completamente formadas por valores nulos (por tanto se vaciaba por completo), esto lo noté al hacer un *describe()* y ver que posee 38 columnas de las 80 que contiene la tabla original, esto asumo que es porque esta función debe filtrar las columnas nulas directamente.\n",
    "\n",
    "Continúo con la construcción del modelo, respecto a la *features* comienzo eligiéndolas por intuición, para luego ir probando si hay mejoras al tomar otras, aunque se supone que más adelante veremos técnicas para seleccionarlas."
   ]
  },
  {
   "cell_type": "code",
   "execution_count": 61,
   "id": "e9a0849c",
   "metadata": {},
   "outputs": [],
   "source": [
    "y = iowa_data.SalePrice\n",
    "\n",
    "# Comienzo eligiendo por intuición (ojo, no 'nan' ni valores no numéricos)\n",
    "cand_features = [\n",
    "    ['MSSubClass', 'LotArea', '1stFlrSF','FullBath', 'OverallQual', 'OverallCond', 'YearBuilt'],\n",
    "    ['MSSubClass', 'LotArea', '1stFlrSF','FullBath', 'OverallQual', 'OverallCond', 'YearBuilt', 'BedroomAbvGr'],\n",
    "    ['MSSubClass', 'LotArea', '1stFlrSF','FullBath', 'OverallQual', 'OverallCond', 'YearBuilt','BedroomAbvGr', 'KitchenAbvGr' ],\n",
    "]\n",
    "features = cand_features[2]\n",
    "X = iowa_data[features]"
   ]
  },
  {
   "cell_type": "markdown",
   "id": "9d3a94ae",
   "metadata": {},
   "source": [
    "**NOTA:** ya observo una primera complicación a la hora de elegir las *features* donde, si elijo alguna que posee valores no numéricos (ejemplo, MSZoning toma valores como 'RL', 'A'), resultará en un error ya que el modelo no puede resolverlo (se verá más adelante como solucionar esto). Por tanto, a priori, debo seleccionar solo aquellas que sean numéricas.\n",
    "\n",
    "No había notado, pero en el curso te mostraban cuáles columnas no te darían conflictos:\n",
    "- 'MSSubClass'\n",
    "- 'LotArea'\n",
    "- 'OverallQual'\n",
    "- 'OverallCond'\n",
    "- 'YearBuilt'\n",
    "- 'YearRemodAdd'\n",
    "- '1stFlrSF'\n",
    "- '2ndFlrSF'\n",
    "- 'LowQualFinSF'\n",
    "- 'GrLivArea'\n",
    "- 'FullBath'\n",
    "- 'HalfBath'\n",
    "- 'BedroomAbvGr'\n",
    "- 'KitchenAbvGr'\n",
    "- 'TotRmsAbvGrd'\n",
    "- 'Fireplaces'\n",
    "- 'WoodDeckSF'\n",
    "- 'OpenPorchSF'\n",
    "- 'EnclosedPorch'\n",
    "- '3SsnPorch'\n",
    "- 'ScreenPorch'\n",
    "- 'PoolArea'\n",
    "- 'MiscVal'\n",
    "- 'MoSold'\n",
    "- 'YrSold'"
   ]
  },
  {
   "cell_type": "code",
   "execution_count": 62,
   "id": "5413e344",
   "metadata": {},
   "outputs": [
    {
     "name": "stdout",
     "output_type": "stream",
     "text": [
      "Validando el modelo obtengo un MAE: 21,248\n"
     ]
    }
   ],
   "source": [
    "train_X, val_X, train_y, val_y = train_test_split(X, y, random_state=0)\n",
    "\n",
    "model = RandomForestRegressor(random_state=1)\n",
    "model.fit(train_X,train_y)\n",
    "val_predictions = model.predict(val_X)\n",
    "val_mae = mean_absolute_error(val_y, val_predictions)\n",
    "\n",
    "print('Validando el modelo obtengo un MAE: {:,.0f}'.format(val_mae))"
   ]
  },
  {
   "cell_type": "markdown",
   "id": "42857396",
   "metadata": {},
   "source": [
    "Suponiendo que ya valide mi modelo (deberia hacer pruebas para elegir cuál es el mejor), ya puedo entrenarlo con la data total (train + validation) y así obtener el modelo con la mayor precisión posible listo para realizar las predicciones sobre la data de la competencia (test.csv) y luego subir los resultados mediante la *submission* (debo generar un archivo csv con las predicciones)."
   ]
  },
  {
   "cell_type": "code",
   "execution_count": 63,
   "id": "9fee48af",
   "metadata": {},
   "outputs": [],
   "source": [
    "# Modelo final entrenado con la data total\n",
    "model.fit(X, y)\n",
    "\n",
    "# Predicciones sobre la data 'test' de la competencia\n",
    "test_home_filepath = 'assets/input/house_competition/test.csv'\n",
    "test_home_data = pd.read_csv(test_home_filepath)\n",
    "test_X = test_home_data[features]\n",
    "test_predictions = model.predict(test_X)\n",
    "\n",
    "# genero csv\n",
    "output = pd.DataFrame({'Id': test_home_data.Id, 'SalePrice': test_predictions})\n",
    "output.to_csv('assets/output/home_submission.csv', index=False)"
   ]
  },
  {
   "cell_type": "code",
   "execution_count": null,
   "id": "54f2c49e",
   "metadata": {},
   "outputs": [],
   "source": []
  }
 ],
 "metadata": {
  "kernelspec": {
   "display_name": "Python 3 (ipykernel)",
   "language": "python",
   "name": "python3"
  },
  "language_info": {
   "codemirror_mode": {
    "name": "ipython",
    "version": 3
   },
   "file_extension": ".py",
   "mimetype": "text/x-python",
   "name": "python",
   "nbconvert_exporter": "python",
   "pygments_lexer": "ipython3",
   "version": "3.10.2"
  }
 },
 "nbformat": 4,
 "nbformat_minor": 5
}
