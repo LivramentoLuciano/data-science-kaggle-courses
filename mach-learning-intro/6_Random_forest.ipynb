{
 "cells": [
  {
   "cell_type": "code",
   "execution_count": 2,
   "id": "519e31eb",
   "metadata": {},
   "outputs": [
    {
     "name": "stdout",
     "output_type": "stream",
     "text": [
      "Iniciando\n",
      "Listo\n"
     ]
    }
   ],
   "source": [
    "# inicializo utilidades\n",
    "print('Iniciando...')\n",
    "import pandas as pd\n",
    "from sklearn.tree import DecisionTreeRegressor\n",
    "from sklearn.metrics import mean_absolute_error\n",
    "from sklearn.model_selection import train_test_split\n",
    "\n",
    "melb_file_path = 'assets/input/melb_data.csv'\n",
    "melbourne_data = pd.read_csv(melb_file_path)\n",
    "prep_melb_data = melbourne_data.dropna(axis=0)\n",
    "\n",
    "y = prep_melb_data.Price\n",
    "features = ['Rooms', 'Bathroom', 'Landsize', 'Lattitude', 'Longtitude']\n",
    "X = prep_melb_data[features]\n",
    "\n",
    "train_X, val_X, train_y, val_y = train_test_split(X, y, random_state=0)\n",
    "\n",
    "# mejor modelo que habia conseguido con DecisionTree (nodes=500)\n",
    "# luego comparare resultado con el RandomForest, analizar mejora\n",
    "tree_model = DecisionTreeRegressor(max_leaf_nodes=500, random_state=1)\n",
    "tree_model.fit(train_X, train_y)\n",
    "tree_predictions = tree_model.predict(val_X)\n",
    "tree_mae = mean_absolute_error(val_y, tree_predictions)\n",
    "\n",
    "print('Listo')"
   ]
  },
  {
   "cell_type": "markdown",
   "id": "5045f705",
   "metadata": {},
   "source": [
    "# Random Forest\n",
    "Este tipo de modelo se presenta como una mejora al modelo de DecisionTree. En este caso, básicamente consta de **varios árboles simples**, cada uno arrojando un resultado, el cual el **RandomForest se encarga de promediar y arrojar una predicción final**.\n",
    "\n",
    "Si bien, presenta parámetros que se pueden modificar con el fin de mejorar su precisión, este modelo tiene la particularidad de funcionar bastante bien sin necesidad de ajustar con demasiado cuidado estos parámetros."
   ]
  },
  {
   "cell_type": "code",
   "execution_count": 8,
   "id": "eaa5a406",
   "metadata": {},
   "outputs": [
    {
     "name": "stdout",
     "output_type": "stream",
     "text": [
      "MAE para el DecisionTree: 260,235\n",
      "MAE para el RandomForest: 207,191\n",
      "Mejora por uso de RandomForest 20%\n"
     ]
    }
   ],
   "source": [
    "from sklearn.ensemble import RandomForestRegressor\n",
    "\n",
    "forest_model = RandomForestRegressor(random_state=1)\n",
    "forest_model.fit(train_X, train_y)\n",
    "forest_predictions = forest_model.predict(val_X)\n",
    "forest_mae = mean_absolute_error(val_y, forest_predictions)\n",
    "\n",
    "# comparo resultados\n",
    "print('MAE para el DecisionTree: {:,.0f}'.format(tree_mae))\n",
    "print('MAE para el RandomForest: {:,.0f}'.format(forest_mae))\n",
    "\n",
    "print('Mejora por uso de RandomForest {:.0%}'.format(1- forest_mae/tree_mae))"
   ]
  },
  {
   "cell_type": "markdown",
   "id": "bba1f13a",
   "metadata": {},
   "source": [
    "Si bien seguramente aún haya mucho por mejorar, solo por el uso de RandomForest ya podemos observar una mejora de aproximadamente 20%."
   ]
  },
  {
   "cell_type": "code",
   "execution_count": null,
   "id": "b6e8edde",
   "metadata": {},
   "outputs": [],
   "source": []
  }
 ],
 "metadata": {
  "kernelspec": {
   "display_name": "Python 3 (ipykernel)",
   "language": "python",
   "name": "python3"
  },
  "language_info": {
   "codemirror_mode": {
    "name": "ipython",
    "version": 3
   },
   "file_extension": ".py",
   "mimetype": "text/x-python",
   "name": "python",
   "nbconvert_exporter": "python",
   "pygments_lexer": "ipython3",
   "version": "3.10.2"
  }
 },
 "nbformat": 4,
 "nbformat_minor": 5
}
